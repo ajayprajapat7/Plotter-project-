{
 "cells": [
  {
   "cell_type": "markdown",
   "id": "1f27fad7",
   "metadata": {},
   "source": [
    "Plotter - Project"
   ]
  },
  {
   "cell_type": "markdown",
   "id": "adece5fa",
   "metadata": {},
   "source": [
    "Description:- How to Analysis the data with different-different plots  with  all data  plot or any  plot specific columns one two and three columns."
   ]
  },
  {
   "cell_type": "code",
   "execution_count": 3,
   "id": "5d78cec2",
   "metadata": {},
   "outputs": [],
   "source": [
    "# import importants liabaries\n",
    "\n",
    "import numpy as np   \n",
    "import pandas as  pd\n",
    "import plotly as plt\n",
    "import plotly.offline as po\n",
    "import cufflinks as cf\n",
    "import colorama \n",
    "from colorama import Fore, Back, Style ,init\n",
    "from termcolor import colored\n",
    "init(convert=True)"
   ]
  },
  {
   "cell_type": "code",
   "execution_count": 4,
   "id": "2ed8bab5",
   "metadata": {},
   "outputs": [
    {
     "data": {
      "text/html": [
       "        <script type=\"text/javascript\">\n",
       "        window.PlotlyConfig = {MathJaxConfig: 'local'};\n",
       "        if (window.MathJax && window.MathJax.Hub && window.MathJax.Hub.Config) {window.MathJax.Hub.Config({SVG: {font: \"STIX-Web\"}});}\n",
       "        if (typeof require !== 'undefined') {\n",
       "        require.undef(\"plotly\");\n",
       "        requirejs.config({\n",
       "            paths: {\n",
       "                'plotly': ['https://cdn.plot.ly/plotly-2.18.0.min']\n",
       "            }\n",
       "        });\n",
       "        require(['plotly'], function(Plotly) {\n",
       "            window._Plotly = Plotly;\n",
       "        });\n",
       "        }\n",
       "        </script>\n",
       "        "
      ]
     },
     "metadata": {},
     "output_type": "display_data"
    },
    {
     "data": {
      "text/html": [
       "        <script type=\"text/javascript\">\n",
       "        window.PlotlyConfig = {MathJaxConfig: 'local'};\n",
       "        if (window.MathJax && window.MathJax.Hub && window.MathJax.Hub.Config) {window.MathJax.Hub.Config({SVG: {font: \"STIX-Web\"}});}\n",
       "        if (typeof require !== 'undefined') {\n",
       "        require.undef(\"plotly\");\n",
       "        requirejs.config({\n",
       "            paths: {\n",
       "                'plotly': ['https://cdn.plot.ly/plotly-2.18.0.min']\n",
       "            }\n",
       "        });\n",
       "        require(['plotly'], function(Plotly) {\n",
       "            window._Plotly = Plotly;\n",
       "        });\n",
       "        }\n",
       "        </script>\n",
       "        "
      ]
     },
     "metadata": {},
     "output_type": "display_data"
    }
   ],
   "source": [
    "#offline setup\n",
    "\n",
    "po.init_notebook_mode(connected=True) \n",
    "cf.go_offline()"
   ]
  },
  {
   "cell_type": "code",
   "execution_count": 5,
   "id": "bfafe4e5",
   "metadata": {},
   "outputs": [],
   "source": [
    "#deifne data ,creatdata Function\n",
    "\n",
    "def createdata(data):\n",
    "    \n",
    "# 1st condition random data creation\n",
    "\n",
    "    if(data ==1):\n",
    "        x = np.random.rand(100,5)\n",
    "        df1=pd.DataFrame(x,columns=['A','B','C','D','E'])\n",
    "        \n",
    "# 2nd condition input data\n",
    "\n",
    "    elif(data == 2):\n",
    "        x=[0,0,0,0,0]\n",
    "        r1=[0,0,0,0,0]\n",
    "        r2=[0,0,0,0,0]\n",
    "        r3=[0,0,0,0,0]\n",
    "        r4=[0,0,0,0,0]\n",
    "        \n",
    "        print(Fore.BLACK +'Enter the  value for columns 😊 ')\n",
    "        i=0\n",
    "        for i in [0,1,2,3,4]:\n",
    "            x[i]=input()\n",
    "            i=i+1\n",
    "            \n",
    "        print(Fore.CYAN +'Enter the  value for first Row 😎')\n",
    "        i=0\n",
    "        for i in [0,1,2,3,4]:\n",
    "            r1[i]=int(input())\n",
    "            i=i+1\n",
    "            \n",
    "        print(Fore.RED +'Enter the  value for Second  Row 😃')\n",
    "        i=0\n",
    "        for i in [0,1,2,3,4]:\n",
    "            r2 [i]=int(input())\n",
    "            i=i+1\n",
    "            \n",
    "        print(Fore.GREEN +'Enter the  value for Third Row 👍')\n",
    "        i=0\n",
    "        for i in [0,1,2,3,4]:\n",
    "            r3 [i]=int(input())\n",
    "            i=i+1\n",
    "            \n",
    "        print(Fore.YELLOW +'Enter the  value for fourth Row 😉')\n",
    "        i=0\n",
    "        for i in [0,1,2,3,4]:\n",
    "            r4 [i]=int(input())\n",
    "            i=i+1\n",
    "            \n",
    "        df1=pd.DataFrame([r1,r2,r3,r4], columns = x)\n",
    "            \n",
    "# 3rd condition different types files those available in drive \n",
    "\n",
    "    elif(data == 3):\n",
    "        file = input(colored('Enter the file name','red','on_green'))\n",
    "        x = pd.read_csv(file)\n",
    "        df1=pd.DataFrame(x)\n",
    "        \n",
    "# 4th condition error exception\n",
    "\n",
    "    else:\n",
    "        print(colored('DataFrame creation failed please enter in between 1 to 3 and try again ✌ ','yellow','on_black'))\n",
    "        \n",
    "    return df1"
   ]
  },
  {
   "cell_type": "code",
   "execution_count": 6,
   "id": "48a179b3",
   "metadata": {},
   "outputs": [],
   "source": [
    "#define two functions\n",
    "\n",
    "#1st is plotter plot all the data  \n",
    "#define plotter\n",
    "\n",
    "def plotter(plot):\n",
    "    \n",
    "    if(plot == 1):\n",
    "        finalplot = df1.iplot(kind='scatter')\n",
    "        \n",
    "    elif(plot == 2):\n",
    "        finalplot = df1.iplot(kind='scatter',mode='markers',symbol='x',colorscale='paired')\n",
    "        \n",
    "    elif(plot == 3):\n",
    "        finalplot = df1.iplot(kind='bar')\n",
    "        \n",
    "    elif(plot == 4):\n",
    "        finalplot = df1.iplot(kind='hist')\n",
    "        \n",
    "    elif(plot == 5):\n",
    "        finalplot = df1.iplot(kind='box')\n",
    "        \n",
    "    elif(plot == 6):\n",
    "        finalplot = df1.iplot(kind='surface')\n",
    "            \n",
    "    else:\n",
    "        finalplot = print(colored('Select only between 1 to 7 please 👏','black','on_red'))\n",
    "    return finalplot"
   ]
  },
  {
   "cell_type": "code",
   "execution_count": 7,
   "id": "fb91f628",
   "metadata": {},
   "outputs": [],
   "source": [
    "#define 2nd is plotter2 plot  specific columns \n",
    "#define plotter2\n",
    "\n",
    "def plotter2(plot):\n",
    "\n",
    "#col is define by columns\n",
    "\n",
    "    col=input(colored('Enter the number of columns you want to plot by selecting only 1 , 2 or 3 😛','yellow', 'on_black'))    \n",
    "    col=int(col)\n",
    "    \n",
    "# User Draw plot particular one column\n",
    "    \n",
    "    if(col==1):\n",
    "        colm = input(colored('Enter the columns you want to plot by selecting any columns frome dataframe head 🤷‍♂️','yellow','on_black'))\n",
    "        \n",
    "        if (plot == 1):\n",
    "            finalplot = df1[colm].iplot(kind='scatter')\n",
    "            \n",
    "        elif (plot == 2):\n",
    "            finalplot = df1[colm].iplot(kind='scatter',mode='markers',symbol='x',colorscale='paired')\n",
    "            \n",
    "        elif (plot == 3):\n",
    "            fianlplot = df1[colm].iplot(kind='bar')\n",
    "        \n",
    "        elif (plot == 4):\n",
    "            fianlplot = df1[colm].iplot(kind='hist')\n",
    "            \n",
    "        elif (plot == 5):\n",
    "            fianlplot = df1[colm].iplot(kind='box')\n",
    "            \n",
    "        elif (plot == 6 or plot == 7):\n",
    "            finalplot = print(colored('Bubble  plot and surface plot require more than one column arguments 😊 please give 2 arguments','black','on_green'))\n",
    "            \n",
    "        else:\n",
    "            finalplot = print(Fore.CYAN + 'Select only between  1 to 7 👏 ')\n",
    "            \n",
    "# User Draw plot particular TWo column \n",
    "\n",
    "    elif(col==2):\n",
    "        print(colored('Enter the  columns you want to plot by selecting from DF head upper data','black','on_ yellow'))\n",
    "        x=input(Fore.RED +'First Columns')\n",
    "        y=input(Fore.GREEN +'Second Columns')\n",
    "        \n",
    "        if(plot==1):\n",
    "            finalplot = df1[x,y].iplot(kind='scatter')\n",
    "            \n",
    "        elif(plot==2):\n",
    "            finalplot = df1[[x,y]].iplot(kind='scatter',mode='markers',symbol='x',colorscale='paired')\n",
    "            \n",
    "        elif(plot==3):\n",
    "            finalplot = df1[[x,y]].iplot(kind='bar')\n",
    "            \n",
    "        elif(plot==4):\n",
    "            finalplot = df1[[x,y]].iplot(kind='hist')\n",
    "            \n",
    "        elif(plot==5):\n",
    "            finalplot = df1[[x,y]].iplot(kind='box')\n",
    "            \n",
    "        elif(plot==6):\n",
    "            finalplot = df1[[x,y]].iplot(kind='surface')\n",
    "            \n",
    "        elif(plot==7):\n",
    "            size=input(Fore.YELLOW + 'Please Enter the size column for bubble plot')\n",
    "            finalplot = df1.iplot(kind='bubble', x=x, y=y, size=size)\n",
    "            \n",
    "        else:\n",
    "            finalplot = print(colored('Select only between  1 to 7','green','on_black'))\n",
    "            \n",
    "# User Draw plot particular Three column\n",
    "\n",
    "    elif(col==3):\n",
    "        print(colored('Enter the  columns you want to plot by selecting from dataframe head','green','on_yellow'))\n",
    "        x=input(Fore.RED +'First Columns')\n",
    "        y=input(Fore.GREEN +'Second Columns')\n",
    "        z=input(Fore.CYAN +'Third Columns')\n",
    "        \n",
    "        if(plot==1):\n",
    "            finalplot = df1[x,y,z].iplot(kind='scatter')\n",
    "            \n",
    "        elif(plot==2):\n",
    "            finalplot = df1[[x,y,z]].iplot(kind='scatter',mode='markers',symbol='x',colorscale='paired')\n",
    "            \n",
    "        elif(plot==3):\n",
    "            finalplot = df1[[x,y,z]].iplot(kind='bar')\n",
    "            \n",
    "        elif(plot==4):\n",
    "            finalplot = df1[[x,y,z]].iplot(kind='hist')\n",
    "            \n",
    "        elif(plot==5):\n",
    "            finalplot = df1[[x,y,z]].iplot(kind='box')\n",
    "            \n",
    "        elif(plot==6):\n",
    "            finalplot = df1[[x,y,z]].iplot(kind='surface')\n",
    "            \n",
    "        elif(plot==7):\n",
    "            size=input(Fore.GREEN +'Please Enter the size column for bubble plot')\n",
    "            finalplot = df1.iplot(kind='bubble', x=x, y=y, z=z, size=size)\n",
    "            \n",
    "        else:\n",
    "            finalplot = print(colored('Select only between  1 to 7','green','on_yellow'))\n",
    "\n",
    "# define programe expection errors\n",
    "    else:\n",
    "        finalplot=print(colored('please Enter only 1 , 2 or 3','green','on_yellow'))\n",
    "        \n",
    "    return finalplot"
   ]
  },
  {
   "cell_type": "code",
   "execution_count": 8,
   "id": "fc118ff8",
   "metadata": {},
   "outputs": [],
   "source": [
    "# define main funcation which funcation must we pass where to pass\n",
    "# Cat define category \n",
    "\n",
    "def main  (cat):\n",
    "    if(cat==1):\n",
    "        print('Select the type of plot you need to plot by writing 1 to 7  🙌')\n",
    "        print('1.Line plot')\n",
    "        print('2.Scatter plot')\n",
    "        print('3.Bar plot')\n",
    "        print('4.Histogram plot')\n",
    "        print('5.Box plot')\n",
    "        print('6.Surface plot')\n",
    "        print('7.Bubble plot')\n",
    "        plot=int(input())\n",
    "        output=plotter(plot)\n",
    "        \n",
    "    elif(cat==2):\n",
    "        print('Select the type of plot you need to plot by writing 1 to 7  🙌')\n",
    "        print('1.Line plot')\n",
    "        print('2.Scatter plot')\n",
    "        print('3.Bar plot')\n",
    "        print('4.Histogram plot')\n",
    "        print('5.Box plot')\n",
    "        print('6.Surface plot')\n",
    "        print('7.Bubble plot')\n",
    "        plot=int(input())\n",
    "        output=plotter2(plot)\n",
    "        \n",
    "    else:\n",
    "        print('please  Enter 1 or 2 and try again  Only 1 or Two ✌ ')"
   ]
  },
  {
   "cell_type": "code",
   "execution_count": 9,
   "id": "7eae3308",
   "metadata": {},
   "outputs": [
    {
     "name": "stdout",
     "output_type": "stream",
     "text": [
      "Select the type of data (You need to PlotBy Writing 1,2 or 3)\n",
      "1.Random data with 100 rows and 5 columns \n",
      "2.Customize dataFram with 5 column and.4 rows\n",
      "3.Upload csv/json/excel/text file\n",
      "1\n"
     ]
    }
   ],
   "source": [
    "# this is a  working cell where define datasets\n",
    "\n",
    "print('Select the type of data (You need to PlotBy Writing 1,2 or 3)')\n",
    "print('1.Random data with 100 rows and 5 columns ')\n",
    "print('2.Customize dataFram with 5 column and.4 rows')\n",
    "print('3.Upload csv/json/excel/text file')\n",
    "data =int(input())\n",
    "df1=createdata(data)"
   ]
  },
  {
   "cell_type": "code",
   "execution_count": 10,
   "id": "d7032f31",
   "metadata": {},
   "outputs": [
    {
     "name": "stdout",
     "output_type": "stream",
     "text": [
      "You DataFrame head is  given below check the column to plot using cufflinks 👍 success\n"
     ]
    },
    {
     "data": {
      "text/html": [
       "<div>\n",
       "<style scoped>\n",
       "    .dataframe tbody tr th:only-of-type {\n",
       "        vertical-align: middle;\n",
       "    }\n",
       "\n",
       "    .dataframe tbody tr th {\n",
       "        vertical-align: top;\n",
       "    }\n",
       "\n",
       "    .dataframe thead th {\n",
       "        text-align: right;\n",
       "    }\n",
       "</style>\n",
       "<table border=\"1\" class=\"dataframe\">\n",
       "  <thead>\n",
       "    <tr style=\"text-align: right;\">\n",
       "      <th></th>\n",
       "      <th>A</th>\n",
       "      <th>B</th>\n",
       "      <th>C</th>\n",
       "      <th>D</th>\n",
       "      <th>E</th>\n",
       "    </tr>\n",
       "  </thead>\n",
       "  <tbody>\n",
       "    <tr>\n",
       "      <th>0</th>\n",
       "      <td>0.754653</td>\n",
       "      <td>0.531922</td>\n",
       "      <td>0.053610</td>\n",
       "      <td>0.994183</td>\n",
       "      <td>0.306545</td>\n",
       "    </tr>\n",
       "    <tr>\n",
       "      <th>1</th>\n",
       "      <td>0.483808</td>\n",
       "      <td>0.212321</td>\n",
       "      <td>0.071943</td>\n",
       "      <td>0.103948</td>\n",
       "      <td>0.694904</td>\n",
       "    </tr>\n",
       "    <tr>\n",
       "      <th>2</th>\n",
       "      <td>0.060773</td>\n",
       "      <td>0.631894</td>\n",
       "      <td>0.339110</td>\n",
       "      <td>0.421494</td>\n",
       "      <td>0.175787</td>\n",
       "    </tr>\n",
       "    <tr>\n",
       "      <th>3</th>\n",
       "      <td>0.344809</td>\n",
       "      <td>0.100046</td>\n",
       "      <td>0.708143</td>\n",
       "      <td>0.656135</td>\n",
       "      <td>0.813694</td>\n",
       "    </tr>\n",
       "    <tr>\n",
       "      <th>4</th>\n",
       "      <td>0.128206</td>\n",
       "      <td>0.211657</td>\n",
       "      <td>0.313820</td>\n",
       "      <td>0.334832</td>\n",
       "      <td>0.495707</td>\n",
       "    </tr>\n",
       "  </tbody>\n",
       "</table>\n",
       "</div>"
      ],
      "text/plain": [
       "          A         B         C         D         E\n",
       "0  0.754653  0.531922  0.053610  0.994183  0.306545\n",
       "1  0.483808  0.212321  0.071943  0.103948  0.694904\n",
       "2  0.060773  0.631894  0.339110  0.421494  0.175787\n",
       "3  0.344809  0.100046  0.708143  0.656135  0.813694\n",
       "4  0.128206  0.211657  0.313820  0.334832  0.495707"
      ]
     },
     "execution_count": 10,
     "metadata": {},
     "output_type": "execute_result"
    }
   ],
   "source": [
    "# this cell select head frome the dataset\n",
    "\n",
    "print('You DataFrame head is  given below check the column to plot using cufflinks 👍 success')\n",
    "df1.head()"
   ]
  },
  {
   "cell_type": "code",
   "execution_count": 11,
   "id": "2a10d168",
   "metadata": {},
   "outputs": [
    {
     "name": "stdout",
     "output_type": "stream",
     "text": [
      "What kind of  plot you need . (the complete data plot) -OR- (columns plot)\n",
      "[Press 1 for plotting all columns] -OR- [press 2 for specifying columns to plot]1\n"
     ]
    }
   ],
   "source": [
    "# this cell define which type of plotting the data all data or specific column data\n",
    "# cat difine by category \n",
    "\n",
    "print(Fore.GREEN+'What kind of  plot you need . (the complete data plot) -OR- (columns plot)')\n",
    "cat =input('[Press 1 for plotting all columns] -OR- [press 2 for specifying columns to plot]')\n",
    "cat =int(cat)"
   ]
  },
  {
   "cell_type": "code",
   "execution_count": 15,
   "id": "04c31b77",
   "metadata": {},
   "outputs": [
    {
     "name": "stdout",
     "output_type": "stream",
     "text": [
      "Select the type of plot you need to plot by writing 1 to 7  🙌\n",
      "1.Line plot\n",
      "2.Scatter plot\n",
      "3.Bar plot\n",
      "4.Histogram plot\n",
      "5.Box plot\n",
      "6.Surface plot\n",
      "7.Bubble plot\n",
      "5\n"
     ]
    },
    {
     "data": {
      "application/vnd.plotly.v1+json": {
       "config": {
        "linkText": "Export to plot.ly",
        "plotlyServerURL": "https://plot.ly",
        "showLink": true
       },
       "data": [
        {
         "boxpoints": false,
         "line": {
          "width": 1.3
         },
         "marker": {
          "color": "rgba(255, 153, 51, 1.0)"
         },
         "name": "A",
         "orientation": "v",
         "type": "box",
         "y": [
          0.7546531463693481,
          0.4838084258564771,
          0.060772874284288125,
          0.3448087189811502,
          0.12820605739888558,
          0.9186296946951648,
          0.8269907185967803,
          0.22430236689797645,
          0.1093254440774617,
          0.014564970330376292,
          0.04986944890933931,
          0.3611264492551445,
          0.399170974038873,
          0.9645107527616509,
          0.8225123462886698,
          0.21692133432697325,
          0.7416269704005017,
          0.37792404666678614,
          0.6692303142430797,
          0.6850621883481238,
          0.1506854916843885,
          0.9693498411984378,
          0.8907519987985806,
          0.38932690360381395,
          0.2648291609435257,
          0.4570153137572758,
          0.9617265747924095,
          0.01775241460429866,
          0.7200901907227515,
          0.939628747005128,
          0.7190909027505972,
          0.27410299550150385,
          0.2403105718142553,
          0.7900850390308154,
          0.5083407418997883,
          0.21489272179688912,
          0.01866944531658643,
          0.683443076830399,
          0.8695141126547193,
          0.7297706133953573,
          0.7344277559945169,
          0.15480644153028944,
          0.929926699112424,
          0.37327205686676634,
          0.5264219790958596,
          0.27867942129463863,
          0.15877315410739967,
          0.9481780256621112,
          0.709724810359294,
          0.5318946296959838,
          0.9685852743479118,
          0.8825189974509159,
          0.30831543899859637,
          0.7718889946573222,
          0.24817645846574554,
          0.7576684637838249,
          0.8221660237131441,
          0.21045231758839078,
          0.30082726867767995,
          0.7611408464770312,
          0.8948808746471024,
          0.6013250442180502,
          0.7134376914265509,
          0.5261058280885593,
          0.10434747999311389,
          0.5258331071960168,
          0.8669595548791463,
          0.9497603359841372,
          0.23075217176905438,
          0.35214339774831904,
          0.7400256151064544,
          0.21089939418711035,
          0.7669349133895306,
          0.5695277759392514,
          0.6940375670088933,
          0.7450580282884546,
          0.11143493835613683,
          0.0631364658026955,
          0.9764998399125375,
          0.202422773692163,
          0.5407173760934124,
          0.15443248582773084,
          0.852752846286715,
          0.3924170867320548,
          0.7290573522944894,
          0.8070525870460625,
          0.549132275561187,
          0.22044484181922375,
          0.02716309494098268,
          0.5647408840855204,
          0.5063114279652217,
          0.3579149961939939,
          0.9522915176446469,
          0.6524589259204138,
          0.355238359006533,
          0.7317531291209424,
          0.7140510421099648,
          0.6651534810894243,
          0.8141125745582611,
          0.017864294132970193
         ]
        },
        {
         "boxpoints": false,
         "line": {
          "width": 1.3
         },
         "marker": {
          "color": "rgba(55, 128, 191, 1.0)"
         },
         "name": "B",
         "orientation": "v",
         "type": "box",
         "y": [
          0.5319220727857122,
          0.21232091741775105,
          0.6318941652826922,
          0.10004585817831291,
          0.21165722122298536,
          0.6922408543310299,
          0.1813563849913904,
          0.3435165871878475,
          0.7044762453518555,
          0.2957430210143317,
          0.1724113930757385,
          0.813920787945716,
          0.011466911701758842,
          0.7966770943957018,
          0.14191756297571734,
          0.45513452666246035,
          0.46867715200413007,
          0.298792293030667,
          0.8294305151283234,
          0.912045628466263,
          0.5877498756851491,
          0.3604428954717498,
          0.8243814412344366,
          0.15980771157472884,
          0.7185844192371522,
          0.5109727107599507,
          0.9317325640057489,
          0.7595517074964261,
          0.3831677140021078,
          0.4978417481202526,
          0.8731470481591911,
          0.13880984711565536,
          0.21724611442997832,
          0.660831947237752,
          0.5932412338418145,
          0.29577260369154834,
          0.7982736260147522,
          0.9588775472922586,
          0.7901295076273895,
          0.23119699870918764,
          0.6455740246313368,
          0.9749136027689298,
          0.749678254608658,
          0.36290373937262255,
          0.5141739521988675,
          0.9840318513796487,
          0.9015914821006482,
          0.2064654121621481,
          0.01812203382571953,
          0.2424298252770879,
          0.27625659617072706,
          0.7678262129724617,
          0.24051304043864385,
          0.9873443844555141,
          0.41518339891254574,
          0.03209430812485903,
          0.15867653363198897,
          0.9515816709977086,
          0.038249962310613284,
          0.23585217169263017,
          0.980888203866181,
          0.794443539794717,
          0.03286227001776021,
          0.838773276462573,
          0.8815661144080926,
          0.4047385741122784,
          0.7205592358799835,
          0.7685480577780496,
          0.05040449574665484,
          0.6852036591493256,
          0.7872235987336161,
          0.3742996087115046,
          0.2107168744945046,
          0.20662260322081416,
          0.3523029245609477,
          0.6366481303004932,
          0.5680551954519724,
          0.6782643372909881,
          0.7078029175978733,
          0.2400861274086339,
          0.602326846297356,
          0.7991143292867166,
          0.16811290535927492,
          0.3709734584702563,
          0.4028955885936928,
          0.8825218955185637,
          0.6449429143640162,
          0.09897489650733926,
          0.5489439057884823,
          0.928672497285036,
          0.568220836319631,
          0.7340184822229864,
          0.26141913440202447,
          0.09621095595120999,
          0.13543774740249614,
          0.10053064878476892,
          0.9224942146992945,
          0.4305396211080055,
          0.7794900367762849,
          0.35931777516364727
         ]
        },
        {
         "boxpoints": false,
         "line": {
          "width": 1.3
         },
         "marker": {
          "color": "rgba(50, 171, 96, 1.0)"
         },
         "name": "C",
         "orientation": "v",
         "type": "box",
         "y": [
          0.05361006749684005,
          0.07194313639027106,
          0.3391101894671509,
          0.7081427823668714,
          0.31382006467819235,
          0.5515592559540359,
          0.4097470714368777,
          0.30868873156817156,
          0.4960711804447627,
          0.7387877720469086,
          0.8294327947636716,
          0.7288292676619543,
          0.34683973331339135,
          0.9907747109760942,
          0.4660890215810032,
          0.8269691776320353,
          0.028829633814290156,
          0.1727389668785102,
          0.49816930734850995,
          0.5506256743120769,
          0.36661292966466563,
          0.2484818559217914,
          0.13061452857922762,
          0.10819928407729784,
          0.07377847693895312,
          0.1965699162871023,
          0.5950688196857609,
          0.22395939745029014,
          0.47561415967063714,
          0.3369392261327492,
          0.8971450650356206,
          0.0005268408194473162,
          0.26634336779798296,
          0.8327609325395535,
          0.029790850542094516,
          0.3796771898964364,
          0.9944410675365362,
          0.9443613394145246,
          0.7195971937778395,
          0.26735051178343094,
          0.1542831068879713,
          0.5850850043417871,
          0.24902264860649836,
          0.6070363746931227,
          0.5943532821265987,
          0.20651960221318555,
          0.6700479924703702,
          0.49032722861061007,
          0.9864201750509812,
          0.15216378923497653,
          0.469989218881556,
          0.8970463345546356,
          0.43875966895741236,
          0.468577949480505,
          0.6374771862935888,
          0.1569146489655494,
          0.8460166592659771,
          0.7357824697958444,
          0.6012020241757834,
          0.06778602598543348,
          0.05809187897011159,
          0.6480536349171974,
          0.5750903098613601,
          0.8266561939104503,
          0.860165444272508,
          0.8006692463962982,
          0.5139385419450689,
          0.02072849884795447,
          0.23924028207179437,
          0.35271056544628787,
          0.9852974555223808,
          0.7599346591165397,
          0.5730187848856507,
          0.27418546948112466,
          0.4901100061494307,
          0.9471797400409034,
          0.05559227690002466,
          0.42107771619143464,
          0.01237192188391445,
          0.10493065057306084,
          0.3101835317295015,
          0.2672586808731271,
          0.24375875101424194,
          0.4697563008681849,
          0.7807392228137344,
          0.9740253825586017,
          0.9914049794819222,
          0.29210921524846223,
          0.6876567738084425,
          0.4229150777842552,
          0.3865676479861654,
          0.2044809162717084,
          0.9495296013809944,
          0.9685884476400416,
          0.475143434461899,
          0.845083639295444,
          0.4693231027910889,
          0.6003137552382466,
          0.37754787580956584,
          0.1885839650201625
         ]
        },
        {
         "boxpoints": false,
         "line": {
          "width": 1.3
         },
         "marker": {
          "color": "rgba(128, 0, 128, 1.0)"
         },
         "name": "D",
         "orientation": "v",
         "type": "box",
         "y": [
          0.994183059633738,
          0.10394783963864196,
          0.4214940171998013,
          0.656135238192462,
          0.334832195426497,
          0.9336904655630842,
          0.9753070741883627,
          0.42424170691093976,
          0.8509034367362148,
          0.8168464696019123,
          0.20921183753716943,
          0.056567280839913914,
          0.3099225896596399,
          0.8259526297855958,
          0.43748466957477283,
          0.16782331611457868,
          0.368739446354302,
          0.17900272378132576,
          0.365364960463195,
          0.8685975606933752,
          0.5742977705682295,
          0.6129058318335224,
          0.3211147912731427,
          0.5375456981572749,
          0.5685044485927064,
          0.03280514408358137,
          0.45067116370229765,
          0.8529373479096257,
          0.31793618909420496,
          0.8338150846354799,
          0.408390612984908,
          0.8039142075927626,
          0.09899674936190672,
          0.5609483161769022,
          0.1392631716400914,
          0.2466110309754035,
          0.811318278975271,
          0.13428274707592835,
          0.5649132686890632,
          0.33772824490739894,
          0.9255435181229418,
          0.827188607173055,
          0.28227565320146875,
          0.15773794220235615,
          0.47528790211977434,
          0.1787804364116098,
          0.5856125687941189,
          0.6359030524353706,
          0.9791773827876346,
          0.29723921924014163,
          0.8811935394269688,
          0.3241544896426629,
          0.6722537611617745,
          0.14897599378980608,
          0.780370019781649,
          0.7785872501705347,
          0.9058578169523098,
          0.5091314142340227,
          0.7730888606236687,
          0.4006083559592012,
          0.40681971883092083,
          0.12335441996176122,
          0.7524767107946533,
          0.12367270166331268,
          0.7396508539931366,
          0.435879391226088,
          0.9034478973430163,
          0.6025737982423178,
          0.23836492117000985,
          0.6600984886864837,
          0.3557987397596284,
          0.8822399210524889,
          0.5036224727417549,
          0.7726097562749974,
          0.384830583152341,
          0.3974955459521997,
          0.1505112729486472,
          0.41303105116042793,
          0.873579937777044,
          0.5289133740290304,
          0.644052020899799,
          0.4495686473160351,
          0.3002133103846798,
          0.44005507988199954,
          0.7554891694563625,
          0.06577637671747638,
          0.9693343940586562,
          0.5572436285039504,
          0.8810299119800352,
          0.23608318183172972,
          0.1720275182326776,
          0.11038528303703243,
          0.00722594499116358,
          0.16189982424555327,
          0.7996584100270536,
          0.09588754962647839,
          0.03760380982458289,
          0.33864327127510874,
          0.01190249987749592,
          0.9989116848004803
         ]
        },
        {
         "boxpoints": false,
         "line": {
          "width": 1.3
         },
         "marker": {
          "color": "rgba(219, 64, 82, 1.0)"
         },
         "name": "E",
         "orientation": "v",
         "type": "box",
         "y": [
          0.3065450265330054,
          0.6949040942690993,
          0.17578716737269662,
          0.8136937085985263,
          0.49570702948078815,
          0.49025316944310127,
          0.36900293846578736,
          0.5677059448966095,
          0.5240719246462268,
          0.323650485312043,
          0.5205867836035529,
          0.5847148766172875,
          0.06537879335687413,
          0.18515726214345296,
          0.14712062687192207,
          0.03765531128257804,
          0.7624903535186734,
          0.5399262516744293,
          0.26633502132527787,
          0.3589815226833335,
          0.4034978955248897,
          0.1323865747077827,
          0.5421385817507659,
          0.04802615714340985,
          0.3933083751427039,
          0.38959658925875207,
          0.5621603948887838,
          0.20862814494937842,
          0.15171857947033263,
          0.8524006288114805,
          0.11093156098914414,
          0.12896864075001513,
          0.6212055952804095,
          0.5815068295727408,
          0.7171330062994763,
          0.3196795787723953,
          0.2683705882067209,
          0.5726343946739523,
          0.5797781665553774,
          0.20183908052344912,
          0.8725451569947751,
          0.06965603379481133,
          0.7330823266136626,
          0.8278373853319703,
          0.35565459775777786,
          0.6310358698614085,
          0.43790560326240335,
          0.22931364011614908,
          0.15008706160004193,
          0.9387873683395583,
          0.07481360191313646,
          0.26451197655312364,
          0.369654693076803,
          0.49003987078899913,
          0.7395684413858343,
          0.12162500233577866,
          0.5286689609883013,
          0.15789796972938308,
          0.6973976016281787,
          0.889945300362434,
          0.3608204481105124,
          0.13563392589822199,
          0.13730423292563587,
          0.5661016077758204,
          0.6914007643763002,
          0.07806201350660458,
          0.30134361776044105,
          0.4095263797468013,
          0.49163164921551616,
          0.048713359791934474,
          0.875590218487568,
          0.1422792446905835,
          0.24707034913612702,
          0.6390638740729373,
          0.40169476185955466,
          0.925690272154851,
          0.3009112715694169,
          0.3411397543356389,
          0.5417152138968585,
          0.8221653238035201,
          0.9543973884738757,
          0.3370325469974885,
          0.7287173726299145,
          0.6798175065616645,
          0.3153353329252986,
          0.6152321277348212,
          0.01643296836540964,
          0.18380292106122842,
          0.2672838853508823,
          0.4277222223592573,
          0.13647311691107622,
          0.46277180743661317,
          0.5302751634503652,
          0.7989750518084023,
          0.7808115001399805,
          0.6121978458475054,
          0.19115563454921358,
          0.7882942349473359,
          0.08943084615439878,
          0.08166443916235777
         ]
        }
       ],
       "layout": {
        "legend": {
         "bgcolor": "#F5F6F9",
         "font": {
          "color": "#4D5663"
         }
        },
        "paper_bgcolor": "#F5F6F9",
        "plot_bgcolor": "#F5F6F9",
        "template": {
         "data": {
          "bar": [
           {
            "error_x": {
             "color": "#2a3f5f"
            },
            "error_y": {
             "color": "#2a3f5f"
            },
            "marker": {
             "line": {
              "color": "#E5ECF6",
              "width": 0.5
             },
             "pattern": {
              "fillmode": "overlay",
              "size": 10,
              "solidity": 0.2
             }
            },
            "type": "bar"
           }
          ],
          "barpolar": [
           {
            "marker": {
             "line": {
              "color": "#E5ECF6",
              "width": 0.5
             },
             "pattern": {
              "fillmode": "overlay",
              "size": 10,
              "solidity": 0.2
             }
            },
            "type": "barpolar"
           }
          ],
          "carpet": [
           {
            "aaxis": {
             "endlinecolor": "#2a3f5f",
             "gridcolor": "white",
             "linecolor": "white",
             "minorgridcolor": "white",
             "startlinecolor": "#2a3f5f"
            },
            "baxis": {
             "endlinecolor": "#2a3f5f",
             "gridcolor": "white",
             "linecolor": "white",
             "minorgridcolor": "white",
             "startlinecolor": "#2a3f5f"
            },
            "type": "carpet"
           }
          ],
          "choropleth": [
           {
            "colorbar": {
             "outlinewidth": 0,
             "ticks": ""
            },
            "type": "choropleth"
           }
          ],
          "contour": [
           {
            "colorbar": {
             "outlinewidth": 0,
             "ticks": ""
            },
            "colorscale": [
             [
              0,
              "#0d0887"
             ],
             [
              0.1111111111111111,
              "#46039f"
             ],
             [
              0.2222222222222222,
              "#7201a8"
             ],
             [
              0.3333333333333333,
              "#9c179e"
             ],
             [
              0.4444444444444444,
              "#bd3786"
             ],
             [
              0.5555555555555556,
              "#d8576b"
             ],
             [
              0.6666666666666666,
              "#ed7953"
             ],
             [
              0.7777777777777778,
              "#fb9f3a"
             ],
             [
              0.8888888888888888,
              "#fdca26"
             ],
             [
              1,
              "#f0f921"
             ]
            ],
            "type": "contour"
           }
          ],
          "contourcarpet": [
           {
            "colorbar": {
             "outlinewidth": 0,
             "ticks": ""
            },
            "type": "contourcarpet"
           }
          ],
          "heatmap": [
           {
            "colorbar": {
             "outlinewidth": 0,
             "ticks": ""
            },
            "colorscale": [
             [
              0,
              "#0d0887"
             ],
             [
              0.1111111111111111,
              "#46039f"
             ],
             [
              0.2222222222222222,
              "#7201a8"
             ],
             [
              0.3333333333333333,
              "#9c179e"
             ],
             [
              0.4444444444444444,
              "#bd3786"
             ],
             [
              0.5555555555555556,
              "#d8576b"
             ],
             [
              0.6666666666666666,
              "#ed7953"
             ],
             [
              0.7777777777777778,
              "#fb9f3a"
             ],
             [
              0.8888888888888888,
              "#fdca26"
             ],
             [
              1,
              "#f0f921"
             ]
            ],
            "type": "heatmap"
           }
          ],
          "heatmapgl": [
           {
            "colorbar": {
             "outlinewidth": 0,
             "ticks": ""
            },
            "colorscale": [
             [
              0,
              "#0d0887"
             ],
             [
              0.1111111111111111,
              "#46039f"
             ],
             [
              0.2222222222222222,
              "#7201a8"
             ],
             [
              0.3333333333333333,
              "#9c179e"
             ],
             [
              0.4444444444444444,
              "#bd3786"
             ],
             [
              0.5555555555555556,
              "#d8576b"
             ],
             [
              0.6666666666666666,
              "#ed7953"
             ],
             [
              0.7777777777777778,
              "#fb9f3a"
             ],
             [
              0.8888888888888888,
              "#fdca26"
             ],
             [
              1,
              "#f0f921"
             ]
            ],
            "type": "heatmapgl"
           }
          ],
          "histogram": [
           {
            "marker": {
             "pattern": {
              "fillmode": "overlay",
              "size": 10,
              "solidity": 0.2
             }
            },
            "type": "histogram"
           }
          ],
          "histogram2d": [
           {
            "colorbar": {
             "outlinewidth": 0,
             "ticks": ""
            },
            "colorscale": [
             [
              0,
              "#0d0887"
             ],
             [
              0.1111111111111111,
              "#46039f"
             ],
             [
              0.2222222222222222,
              "#7201a8"
             ],
             [
              0.3333333333333333,
              "#9c179e"
             ],
             [
              0.4444444444444444,
              "#bd3786"
             ],
             [
              0.5555555555555556,
              "#d8576b"
             ],
             [
              0.6666666666666666,
              "#ed7953"
             ],
             [
              0.7777777777777778,
              "#fb9f3a"
             ],
             [
              0.8888888888888888,
              "#fdca26"
             ],
             [
              1,
              "#f0f921"
             ]
            ],
            "type": "histogram2d"
           }
          ],
          "histogram2dcontour": [
           {
            "colorbar": {
             "outlinewidth": 0,
             "ticks": ""
            },
            "colorscale": [
             [
              0,
              "#0d0887"
             ],
             [
              0.1111111111111111,
              "#46039f"
             ],
             [
              0.2222222222222222,
              "#7201a8"
             ],
             [
              0.3333333333333333,
              "#9c179e"
             ],
             [
              0.4444444444444444,
              "#bd3786"
             ],
             [
              0.5555555555555556,
              "#d8576b"
             ],
             [
              0.6666666666666666,
              "#ed7953"
             ],
             [
              0.7777777777777778,
              "#fb9f3a"
             ],
             [
              0.8888888888888888,
              "#fdca26"
             ],
             [
              1,
              "#f0f921"
             ]
            ],
            "type": "histogram2dcontour"
           }
          ],
          "mesh3d": [
           {
            "colorbar": {
             "outlinewidth": 0,
             "ticks": ""
            },
            "type": "mesh3d"
           }
          ],
          "parcoords": [
           {
            "line": {
             "colorbar": {
              "outlinewidth": 0,
              "ticks": ""
             }
            },
            "type": "parcoords"
           }
          ],
          "pie": [
           {
            "automargin": true,
            "type": "pie"
           }
          ],
          "scatter": [
           {
            "fillpattern": {
             "fillmode": "overlay",
             "size": 10,
             "solidity": 0.2
            },
            "type": "scatter"
           }
          ],
          "scatter3d": [
           {
            "line": {
             "colorbar": {
              "outlinewidth": 0,
              "ticks": ""
             }
            },
            "marker": {
             "colorbar": {
              "outlinewidth": 0,
              "ticks": ""
             }
            },
            "type": "scatter3d"
           }
          ],
          "scattercarpet": [
           {
            "marker": {
             "colorbar": {
              "outlinewidth": 0,
              "ticks": ""
             }
            },
            "type": "scattercarpet"
           }
          ],
          "scattergeo": [
           {
            "marker": {
             "colorbar": {
              "outlinewidth": 0,
              "ticks": ""
             }
            },
            "type": "scattergeo"
           }
          ],
          "scattergl": [
           {
            "marker": {
             "colorbar": {
              "outlinewidth": 0,
              "ticks": ""
             }
            },
            "type": "scattergl"
           }
          ],
          "scattermapbox": [
           {
            "marker": {
             "colorbar": {
              "outlinewidth": 0,
              "ticks": ""
             }
            },
            "type": "scattermapbox"
           }
          ],
          "scatterpolar": [
           {
            "marker": {
             "colorbar": {
              "outlinewidth": 0,
              "ticks": ""
             }
            },
            "type": "scatterpolar"
           }
          ],
          "scatterpolargl": [
           {
            "marker": {
             "colorbar": {
              "outlinewidth": 0,
              "ticks": ""
             }
            },
            "type": "scatterpolargl"
           }
          ],
          "scatterternary": [
           {
            "marker": {
             "colorbar": {
              "outlinewidth": 0,
              "ticks": ""
             }
            },
            "type": "scatterternary"
           }
          ],
          "surface": [
           {
            "colorbar": {
             "outlinewidth": 0,
             "ticks": ""
            },
            "colorscale": [
             [
              0,
              "#0d0887"
             ],
             [
              0.1111111111111111,
              "#46039f"
             ],
             [
              0.2222222222222222,
              "#7201a8"
             ],
             [
              0.3333333333333333,
              "#9c179e"
             ],
             [
              0.4444444444444444,
              "#bd3786"
             ],
             [
              0.5555555555555556,
              "#d8576b"
             ],
             [
              0.6666666666666666,
              "#ed7953"
             ],
             [
              0.7777777777777778,
              "#fb9f3a"
             ],
             [
              0.8888888888888888,
              "#fdca26"
             ],
             [
              1,
              "#f0f921"
             ]
            ],
            "type": "surface"
           }
          ],
          "table": [
           {
            "cells": {
             "fill": {
              "color": "#EBF0F8"
             },
             "line": {
              "color": "white"
             }
            },
            "header": {
             "fill": {
              "color": "#C8D4E3"
             },
             "line": {
              "color": "white"
             }
            },
            "type": "table"
           }
          ]
         },
         "layout": {
          "annotationdefaults": {
           "arrowcolor": "#2a3f5f",
           "arrowhead": 0,
           "arrowwidth": 1
          },
          "autotypenumbers": "strict",
          "coloraxis": {
           "colorbar": {
            "outlinewidth": 0,
            "ticks": ""
           }
          },
          "colorscale": {
           "diverging": [
            [
             0,
             "#8e0152"
            ],
            [
             0.1,
             "#c51b7d"
            ],
            [
             0.2,
             "#de77ae"
            ],
            [
             0.3,
             "#f1b6da"
            ],
            [
             0.4,
             "#fde0ef"
            ],
            [
             0.5,
             "#f7f7f7"
            ],
            [
             0.6,
             "#e6f5d0"
            ],
            [
             0.7,
             "#b8e186"
            ],
            [
             0.8,
             "#7fbc41"
            ],
            [
             0.9,
             "#4d9221"
            ],
            [
             1,
             "#276419"
            ]
           ],
           "sequential": [
            [
             0,
             "#0d0887"
            ],
            [
             0.1111111111111111,
             "#46039f"
            ],
            [
             0.2222222222222222,
             "#7201a8"
            ],
            [
             0.3333333333333333,
             "#9c179e"
            ],
            [
             0.4444444444444444,
             "#bd3786"
            ],
            [
             0.5555555555555556,
             "#d8576b"
            ],
            [
             0.6666666666666666,
             "#ed7953"
            ],
            [
             0.7777777777777778,
             "#fb9f3a"
            ],
            [
             0.8888888888888888,
             "#fdca26"
            ],
            [
             1,
             "#f0f921"
            ]
           ],
           "sequentialminus": [
            [
             0,
             "#0d0887"
            ],
            [
             0.1111111111111111,
             "#46039f"
            ],
            [
             0.2222222222222222,
             "#7201a8"
            ],
            [
             0.3333333333333333,
             "#9c179e"
            ],
            [
             0.4444444444444444,
             "#bd3786"
            ],
            [
             0.5555555555555556,
             "#d8576b"
            ],
            [
             0.6666666666666666,
             "#ed7953"
            ],
            [
             0.7777777777777778,
             "#fb9f3a"
            ],
            [
             0.8888888888888888,
             "#fdca26"
            ],
            [
             1,
             "#f0f921"
            ]
           ]
          },
          "colorway": [
           "#636efa",
           "#EF553B",
           "#00cc96",
           "#ab63fa",
           "#FFA15A",
           "#19d3f3",
           "#FF6692",
           "#B6E880",
           "#FF97FF",
           "#FECB52"
          ],
          "font": {
           "color": "#2a3f5f"
          },
          "geo": {
           "bgcolor": "white",
           "lakecolor": "white",
           "landcolor": "#E5ECF6",
           "showlakes": true,
           "showland": true,
           "subunitcolor": "white"
          },
          "hoverlabel": {
           "align": "left"
          },
          "hovermode": "closest",
          "mapbox": {
           "style": "light"
          },
          "paper_bgcolor": "white",
          "plot_bgcolor": "#E5ECF6",
          "polar": {
           "angularaxis": {
            "gridcolor": "white",
            "linecolor": "white",
            "ticks": ""
           },
           "bgcolor": "#E5ECF6",
           "radialaxis": {
            "gridcolor": "white",
            "linecolor": "white",
            "ticks": ""
           }
          },
          "scene": {
           "xaxis": {
            "backgroundcolor": "#E5ECF6",
            "gridcolor": "white",
            "gridwidth": 2,
            "linecolor": "white",
            "showbackground": true,
            "ticks": "",
            "zerolinecolor": "white"
           },
           "yaxis": {
            "backgroundcolor": "#E5ECF6",
            "gridcolor": "white",
            "gridwidth": 2,
            "linecolor": "white",
            "showbackground": true,
            "ticks": "",
            "zerolinecolor": "white"
           },
           "zaxis": {
            "backgroundcolor": "#E5ECF6",
            "gridcolor": "white",
            "gridwidth": 2,
            "linecolor": "white",
            "showbackground": true,
            "ticks": "",
            "zerolinecolor": "white"
           }
          },
          "shapedefaults": {
           "line": {
            "color": "#2a3f5f"
           }
          },
          "ternary": {
           "aaxis": {
            "gridcolor": "white",
            "linecolor": "white",
            "ticks": ""
           },
           "baxis": {
            "gridcolor": "white",
            "linecolor": "white",
            "ticks": ""
           },
           "bgcolor": "#E5ECF6",
           "caxis": {
            "gridcolor": "white",
            "linecolor": "white",
            "ticks": ""
           }
          },
          "title": {
           "x": 0.05
          },
          "xaxis": {
           "automargin": true,
           "gridcolor": "white",
           "linecolor": "white",
           "ticks": "",
           "title": {
            "standoff": 15
           },
           "zerolinecolor": "white",
           "zerolinewidth": 2
          },
          "yaxis": {
           "automargin": true,
           "gridcolor": "white",
           "linecolor": "white",
           "ticks": "",
           "title": {
            "standoff": 15
           },
           "zerolinecolor": "white",
           "zerolinewidth": 2
          }
         }
        },
        "title": {
         "font": {
          "color": "#4D5663"
         }
        },
        "xaxis": {
         "gridcolor": "#E1E5ED",
         "showgrid": true,
         "tickfont": {
          "color": "#4D5663"
         },
         "title": {
          "font": {
           "color": "#4D5663"
          },
          "text": ""
         },
         "zerolinecolor": "#E1E5ED"
        },
        "yaxis": {
         "gridcolor": "#E1E5ED",
         "showgrid": true,
         "tickfont": {
          "color": "#4D5663"
         },
         "title": {
          "font": {
           "color": "#4D5663"
          },
          "text": ""
         },
         "zerolinecolor": "#E1E5ED"
        }
       }
      },
      "text/html": [
       "<div>                            <div id=\"e23d81f7-17fb-48dd-966c-1dfa5665f0f2\" class=\"plotly-graph-div\" style=\"height:525px; width:100%;\"></div>            <script type=\"text/javascript\">                require([\"plotly\"], function(Plotly) {                    window.PLOTLYENV=window.PLOTLYENV || {};\n",
       "                    window.PLOTLYENV.BASE_URL='https://plot.ly';                                    if (document.getElementById(\"e23d81f7-17fb-48dd-966c-1dfa5665f0f2\")) {                    Plotly.newPlot(                        \"e23d81f7-17fb-48dd-966c-1dfa5665f0f2\",                        [{\"boxpoints\":false,\"line\":{\"width\":1.3},\"marker\":{\"color\":\"rgba(255, 153, 51, 1.0)\"},\"name\":\"A\",\"orientation\":\"v\",\"y\":[0.7546531463693481,0.4838084258564771,0.060772874284288125,0.3448087189811502,0.12820605739888558,0.9186296946951648,0.8269907185967803,0.22430236689797645,0.1093254440774617,0.014564970330376292,0.04986944890933931,0.3611264492551445,0.399170974038873,0.9645107527616509,0.8225123462886698,0.21692133432697325,0.7416269704005017,0.37792404666678614,0.6692303142430797,0.6850621883481238,0.1506854916843885,0.9693498411984378,0.8907519987985806,0.38932690360381395,0.2648291609435257,0.4570153137572758,0.9617265747924095,0.01775241460429866,0.7200901907227515,0.939628747005128,0.7190909027505972,0.27410299550150385,0.2403105718142553,0.7900850390308154,0.5083407418997883,0.21489272179688912,0.01866944531658643,0.683443076830399,0.8695141126547193,0.7297706133953573,0.7344277559945169,0.15480644153028944,0.929926699112424,0.37327205686676634,0.5264219790958596,0.27867942129463863,0.15877315410739967,0.9481780256621112,0.709724810359294,0.5318946296959838,0.9685852743479118,0.8825189974509159,0.30831543899859637,0.7718889946573222,0.24817645846574554,0.7576684637838249,0.8221660237131441,0.21045231758839078,0.30082726867767995,0.7611408464770312,0.8948808746471024,0.6013250442180502,0.7134376914265509,0.5261058280885593,0.10434747999311389,0.5258331071960168,0.8669595548791463,0.9497603359841372,0.23075217176905438,0.35214339774831904,0.7400256151064544,0.21089939418711035,0.7669349133895306,0.5695277759392514,0.6940375670088933,0.7450580282884546,0.11143493835613683,0.0631364658026955,0.9764998399125375,0.202422773692163,0.5407173760934124,0.15443248582773084,0.852752846286715,0.3924170867320548,0.7290573522944894,0.8070525870460625,0.549132275561187,0.22044484181922375,0.02716309494098268,0.5647408840855204,0.5063114279652217,0.3579149961939939,0.9522915176446469,0.6524589259204138,0.355238359006533,0.7317531291209424,0.7140510421099648,0.6651534810894243,0.8141125745582611,0.017864294132970193],\"type\":\"box\"},{\"boxpoints\":false,\"line\":{\"width\":1.3},\"marker\":{\"color\":\"rgba(55, 128, 191, 1.0)\"},\"name\":\"B\",\"orientation\":\"v\",\"y\":[0.5319220727857122,0.21232091741775105,0.6318941652826922,0.10004585817831291,0.21165722122298536,0.6922408543310299,0.1813563849913904,0.3435165871878475,0.7044762453518555,0.2957430210143317,0.1724113930757385,0.813920787945716,0.011466911701758842,0.7966770943957018,0.14191756297571734,0.45513452666246035,0.46867715200413007,0.298792293030667,0.8294305151283234,0.912045628466263,0.5877498756851491,0.3604428954717498,0.8243814412344366,0.15980771157472884,0.7185844192371522,0.5109727107599507,0.9317325640057489,0.7595517074964261,0.3831677140021078,0.4978417481202526,0.8731470481591911,0.13880984711565536,0.21724611442997832,0.660831947237752,0.5932412338418145,0.29577260369154834,0.7982736260147522,0.9588775472922586,0.7901295076273895,0.23119699870918764,0.6455740246313368,0.9749136027689298,0.749678254608658,0.36290373937262255,0.5141739521988675,0.9840318513796487,0.9015914821006482,0.2064654121621481,0.01812203382571953,0.2424298252770879,0.27625659617072706,0.7678262129724617,0.24051304043864385,0.9873443844555141,0.41518339891254574,0.03209430812485903,0.15867653363198897,0.9515816709977086,0.038249962310613284,0.23585217169263017,0.980888203866181,0.794443539794717,0.03286227001776021,0.838773276462573,0.8815661144080926,0.4047385741122784,0.7205592358799835,0.7685480577780496,0.05040449574665484,0.6852036591493256,0.7872235987336161,0.3742996087115046,0.2107168744945046,0.20662260322081416,0.3523029245609477,0.6366481303004932,0.5680551954519724,0.6782643372909881,0.7078029175978733,0.2400861274086339,0.602326846297356,0.7991143292867166,0.16811290535927492,0.3709734584702563,0.4028955885936928,0.8825218955185637,0.6449429143640162,0.09897489650733926,0.5489439057884823,0.928672497285036,0.568220836319631,0.7340184822229864,0.26141913440202447,0.09621095595120999,0.13543774740249614,0.10053064878476892,0.9224942146992945,0.4305396211080055,0.7794900367762849,0.35931777516364727],\"type\":\"box\"},{\"boxpoints\":false,\"line\":{\"width\":1.3},\"marker\":{\"color\":\"rgba(50, 171, 96, 1.0)\"},\"name\":\"C\",\"orientation\":\"v\",\"y\":[0.05361006749684005,0.07194313639027106,0.3391101894671509,0.7081427823668714,0.31382006467819235,0.5515592559540359,0.4097470714368777,0.30868873156817156,0.4960711804447627,0.7387877720469086,0.8294327947636716,0.7288292676619543,0.34683973331339135,0.9907747109760942,0.4660890215810032,0.8269691776320353,0.028829633814290156,0.1727389668785102,0.49816930734850995,0.5506256743120769,0.36661292966466563,0.2484818559217914,0.13061452857922762,0.10819928407729784,0.07377847693895312,0.1965699162871023,0.5950688196857609,0.22395939745029014,0.47561415967063714,0.3369392261327492,0.8971450650356206,0.0005268408194473162,0.26634336779798296,0.8327609325395535,0.029790850542094516,0.3796771898964364,0.9944410675365362,0.9443613394145246,0.7195971937778395,0.26735051178343094,0.1542831068879713,0.5850850043417871,0.24902264860649836,0.6070363746931227,0.5943532821265987,0.20651960221318555,0.6700479924703702,0.49032722861061007,0.9864201750509812,0.15216378923497653,0.469989218881556,0.8970463345546356,0.43875966895741236,0.468577949480505,0.6374771862935888,0.1569146489655494,0.8460166592659771,0.7357824697958444,0.6012020241757834,0.06778602598543348,0.05809187897011159,0.6480536349171974,0.5750903098613601,0.8266561939104503,0.860165444272508,0.8006692463962982,0.5139385419450689,0.02072849884795447,0.23924028207179437,0.35271056544628787,0.9852974555223808,0.7599346591165397,0.5730187848856507,0.27418546948112466,0.4901100061494307,0.9471797400409034,0.05559227690002466,0.42107771619143464,0.01237192188391445,0.10493065057306084,0.3101835317295015,0.2672586808731271,0.24375875101424194,0.4697563008681849,0.7807392228137344,0.9740253825586017,0.9914049794819222,0.29210921524846223,0.6876567738084425,0.4229150777842552,0.3865676479861654,0.2044809162717084,0.9495296013809944,0.9685884476400416,0.475143434461899,0.845083639295444,0.4693231027910889,0.6003137552382466,0.37754787580956584,0.1885839650201625],\"type\":\"box\"},{\"boxpoints\":false,\"line\":{\"width\":1.3},\"marker\":{\"color\":\"rgba(128, 0, 128, 1.0)\"},\"name\":\"D\",\"orientation\":\"v\",\"y\":[0.994183059633738,0.10394783963864196,0.4214940171998013,0.656135238192462,0.334832195426497,0.9336904655630842,0.9753070741883627,0.42424170691093976,0.8509034367362148,0.8168464696019123,0.20921183753716943,0.056567280839913914,0.3099225896596399,0.8259526297855958,0.43748466957477283,0.16782331611457868,0.368739446354302,0.17900272378132576,0.365364960463195,0.8685975606933752,0.5742977705682295,0.6129058318335224,0.3211147912731427,0.5375456981572749,0.5685044485927064,0.03280514408358137,0.45067116370229765,0.8529373479096257,0.31793618909420496,0.8338150846354799,0.408390612984908,0.8039142075927626,0.09899674936190672,0.5609483161769022,0.1392631716400914,0.2466110309754035,0.811318278975271,0.13428274707592835,0.5649132686890632,0.33772824490739894,0.9255435181229418,0.827188607173055,0.28227565320146875,0.15773794220235615,0.47528790211977434,0.1787804364116098,0.5856125687941189,0.6359030524353706,0.9791773827876346,0.29723921924014163,0.8811935394269688,0.3241544896426629,0.6722537611617745,0.14897599378980608,0.780370019781649,0.7785872501705347,0.9058578169523098,0.5091314142340227,0.7730888606236687,0.4006083559592012,0.40681971883092083,0.12335441996176122,0.7524767107946533,0.12367270166331268,0.7396508539931366,0.435879391226088,0.9034478973430163,0.6025737982423178,0.23836492117000985,0.6600984886864837,0.3557987397596284,0.8822399210524889,0.5036224727417549,0.7726097562749974,0.384830583152341,0.3974955459521997,0.1505112729486472,0.41303105116042793,0.873579937777044,0.5289133740290304,0.644052020899799,0.4495686473160351,0.3002133103846798,0.44005507988199954,0.7554891694563625,0.06577637671747638,0.9693343940586562,0.5572436285039504,0.8810299119800352,0.23608318183172972,0.1720275182326776,0.11038528303703243,0.00722594499116358,0.16189982424555327,0.7996584100270536,0.09588754962647839,0.03760380982458289,0.33864327127510874,0.01190249987749592,0.9989116848004803],\"type\":\"box\"},{\"boxpoints\":false,\"line\":{\"width\":1.3},\"marker\":{\"color\":\"rgba(219, 64, 82, 1.0)\"},\"name\":\"E\",\"orientation\":\"v\",\"y\":[0.3065450265330054,0.6949040942690993,0.17578716737269662,0.8136937085985263,0.49570702948078815,0.49025316944310127,0.36900293846578736,0.5677059448966095,0.5240719246462268,0.323650485312043,0.5205867836035529,0.5847148766172875,0.06537879335687413,0.18515726214345296,0.14712062687192207,0.03765531128257804,0.7624903535186734,0.5399262516744293,0.26633502132527787,0.3589815226833335,0.4034978955248897,0.1323865747077827,0.5421385817507659,0.04802615714340985,0.3933083751427039,0.38959658925875207,0.5621603948887838,0.20862814494937842,0.15171857947033263,0.8524006288114805,0.11093156098914414,0.12896864075001513,0.6212055952804095,0.5815068295727408,0.7171330062994763,0.3196795787723953,0.2683705882067209,0.5726343946739523,0.5797781665553774,0.20183908052344912,0.8725451569947751,0.06965603379481133,0.7330823266136626,0.8278373853319703,0.35565459775777786,0.6310358698614085,0.43790560326240335,0.22931364011614908,0.15008706160004193,0.9387873683395583,0.07481360191313646,0.26451197655312364,0.369654693076803,0.49003987078899913,0.7395684413858343,0.12162500233577866,0.5286689609883013,0.15789796972938308,0.6973976016281787,0.889945300362434,0.3608204481105124,0.13563392589822199,0.13730423292563587,0.5661016077758204,0.6914007643763002,0.07806201350660458,0.30134361776044105,0.4095263797468013,0.49163164921551616,0.048713359791934474,0.875590218487568,0.1422792446905835,0.24707034913612702,0.6390638740729373,0.40169476185955466,0.925690272154851,0.3009112715694169,0.3411397543356389,0.5417152138968585,0.8221653238035201,0.9543973884738757,0.3370325469974885,0.7287173726299145,0.6798175065616645,0.3153353329252986,0.6152321277348212,0.01643296836540964,0.18380292106122842,0.2672838853508823,0.4277222223592573,0.13647311691107622,0.46277180743661317,0.5302751634503652,0.7989750518084023,0.7808115001399805,0.6121978458475054,0.19115563454921358,0.7882942349473359,0.08943084615439878,0.08166443916235777],\"type\":\"box\"}],                        {\"legend\":{\"bgcolor\":\"#F5F6F9\",\"font\":{\"color\":\"#4D5663\"}},\"paper_bgcolor\":\"#F5F6F9\",\"plot_bgcolor\":\"#F5F6F9\",\"template\":{\"data\":{\"barpolar\":[{\"marker\":{\"line\":{\"color\":\"#E5ECF6\",\"width\":0.5},\"pattern\":{\"fillmode\":\"overlay\",\"size\":10,\"solidity\":0.2}},\"type\":\"barpolar\"}],\"bar\":[{\"error_x\":{\"color\":\"#2a3f5f\"},\"error_y\":{\"color\":\"#2a3f5f\"},\"marker\":{\"line\":{\"color\":\"#E5ECF6\",\"width\":0.5},\"pattern\":{\"fillmode\":\"overlay\",\"size\":10,\"solidity\":0.2}},\"type\":\"bar\"}],\"carpet\":[{\"aaxis\":{\"endlinecolor\":\"#2a3f5f\",\"gridcolor\":\"white\",\"linecolor\":\"white\",\"minorgridcolor\":\"white\",\"startlinecolor\":\"#2a3f5f\"},\"baxis\":{\"endlinecolor\":\"#2a3f5f\",\"gridcolor\":\"white\",\"linecolor\":\"white\",\"minorgridcolor\":\"white\",\"startlinecolor\":\"#2a3f5f\"},\"type\":\"carpet\"}],\"choropleth\":[{\"colorbar\":{\"outlinewidth\":0,\"ticks\":\"\"},\"type\":\"choropleth\"}],\"contourcarpet\":[{\"colorbar\":{\"outlinewidth\":0,\"ticks\":\"\"},\"type\":\"contourcarpet\"}],\"contour\":[{\"colorbar\":{\"outlinewidth\":0,\"ticks\":\"\"},\"colorscale\":[[0.0,\"#0d0887\"],[0.1111111111111111,\"#46039f\"],[0.2222222222222222,\"#7201a8\"],[0.3333333333333333,\"#9c179e\"],[0.4444444444444444,\"#bd3786\"],[0.5555555555555556,\"#d8576b\"],[0.6666666666666666,\"#ed7953\"],[0.7777777777777778,\"#fb9f3a\"],[0.8888888888888888,\"#fdca26\"],[1.0,\"#f0f921\"]],\"type\":\"contour\"}],\"heatmapgl\":[{\"colorbar\":{\"outlinewidth\":0,\"ticks\":\"\"},\"colorscale\":[[0.0,\"#0d0887\"],[0.1111111111111111,\"#46039f\"],[0.2222222222222222,\"#7201a8\"],[0.3333333333333333,\"#9c179e\"],[0.4444444444444444,\"#bd3786\"],[0.5555555555555556,\"#d8576b\"],[0.6666666666666666,\"#ed7953\"],[0.7777777777777778,\"#fb9f3a\"],[0.8888888888888888,\"#fdca26\"],[1.0,\"#f0f921\"]],\"type\":\"heatmapgl\"}],\"heatmap\":[{\"colorbar\":{\"outlinewidth\":0,\"ticks\":\"\"},\"colorscale\":[[0.0,\"#0d0887\"],[0.1111111111111111,\"#46039f\"],[0.2222222222222222,\"#7201a8\"],[0.3333333333333333,\"#9c179e\"],[0.4444444444444444,\"#bd3786\"],[0.5555555555555556,\"#d8576b\"],[0.6666666666666666,\"#ed7953\"],[0.7777777777777778,\"#fb9f3a\"],[0.8888888888888888,\"#fdca26\"],[1.0,\"#f0f921\"]],\"type\":\"heatmap\"}],\"histogram2dcontour\":[{\"colorbar\":{\"outlinewidth\":0,\"ticks\":\"\"},\"colorscale\":[[0.0,\"#0d0887\"],[0.1111111111111111,\"#46039f\"],[0.2222222222222222,\"#7201a8\"],[0.3333333333333333,\"#9c179e\"],[0.4444444444444444,\"#bd3786\"],[0.5555555555555556,\"#d8576b\"],[0.6666666666666666,\"#ed7953\"],[0.7777777777777778,\"#fb9f3a\"],[0.8888888888888888,\"#fdca26\"],[1.0,\"#f0f921\"]],\"type\":\"histogram2dcontour\"}],\"histogram2d\":[{\"colorbar\":{\"outlinewidth\":0,\"ticks\":\"\"},\"colorscale\":[[0.0,\"#0d0887\"],[0.1111111111111111,\"#46039f\"],[0.2222222222222222,\"#7201a8\"],[0.3333333333333333,\"#9c179e\"],[0.4444444444444444,\"#bd3786\"],[0.5555555555555556,\"#d8576b\"],[0.6666666666666666,\"#ed7953\"],[0.7777777777777778,\"#fb9f3a\"],[0.8888888888888888,\"#fdca26\"],[1.0,\"#f0f921\"]],\"type\":\"histogram2d\"}],\"histogram\":[{\"marker\":{\"pattern\":{\"fillmode\":\"overlay\",\"size\":10,\"solidity\":0.2}},\"type\":\"histogram\"}],\"mesh3d\":[{\"colorbar\":{\"outlinewidth\":0,\"ticks\":\"\"},\"type\":\"mesh3d\"}],\"parcoords\":[{\"line\":{\"colorbar\":{\"outlinewidth\":0,\"ticks\":\"\"}},\"type\":\"parcoords\"}],\"pie\":[{\"automargin\":true,\"type\":\"pie\"}],\"scatter3d\":[{\"line\":{\"colorbar\":{\"outlinewidth\":0,\"ticks\":\"\"}},\"marker\":{\"colorbar\":{\"outlinewidth\":0,\"ticks\":\"\"}},\"type\":\"scatter3d\"}],\"scattercarpet\":[{\"marker\":{\"colorbar\":{\"outlinewidth\":0,\"ticks\":\"\"}},\"type\":\"scattercarpet\"}],\"scattergeo\":[{\"marker\":{\"colorbar\":{\"outlinewidth\":0,\"ticks\":\"\"}},\"type\":\"scattergeo\"}],\"scattergl\":[{\"marker\":{\"colorbar\":{\"outlinewidth\":0,\"ticks\":\"\"}},\"type\":\"scattergl\"}],\"scattermapbox\":[{\"marker\":{\"colorbar\":{\"outlinewidth\":0,\"ticks\":\"\"}},\"type\":\"scattermapbox\"}],\"scatterpolargl\":[{\"marker\":{\"colorbar\":{\"outlinewidth\":0,\"ticks\":\"\"}},\"type\":\"scatterpolargl\"}],\"scatterpolar\":[{\"marker\":{\"colorbar\":{\"outlinewidth\":0,\"ticks\":\"\"}},\"type\":\"scatterpolar\"}],\"scatter\":[{\"fillpattern\":{\"fillmode\":\"overlay\",\"size\":10,\"solidity\":0.2},\"type\":\"scatter\"}],\"scatterternary\":[{\"marker\":{\"colorbar\":{\"outlinewidth\":0,\"ticks\":\"\"}},\"type\":\"scatterternary\"}],\"surface\":[{\"colorbar\":{\"outlinewidth\":0,\"ticks\":\"\"},\"colorscale\":[[0.0,\"#0d0887\"],[0.1111111111111111,\"#46039f\"],[0.2222222222222222,\"#7201a8\"],[0.3333333333333333,\"#9c179e\"],[0.4444444444444444,\"#bd3786\"],[0.5555555555555556,\"#d8576b\"],[0.6666666666666666,\"#ed7953\"],[0.7777777777777778,\"#fb9f3a\"],[0.8888888888888888,\"#fdca26\"],[1.0,\"#f0f921\"]],\"type\":\"surface\"}],\"table\":[{\"cells\":{\"fill\":{\"color\":\"#EBF0F8\"},\"line\":{\"color\":\"white\"}},\"header\":{\"fill\":{\"color\":\"#C8D4E3\"},\"line\":{\"color\":\"white\"}},\"type\":\"table\"}]},\"layout\":{\"annotationdefaults\":{\"arrowcolor\":\"#2a3f5f\",\"arrowhead\":0,\"arrowwidth\":1},\"autotypenumbers\":\"strict\",\"coloraxis\":{\"colorbar\":{\"outlinewidth\":0,\"ticks\":\"\"}},\"colorscale\":{\"diverging\":[[0,\"#8e0152\"],[0.1,\"#c51b7d\"],[0.2,\"#de77ae\"],[0.3,\"#f1b6da\"],[0.4,\"#fde0ef\"],[0.5,\"#f7f7f7\"],[0.6,\"#e6f5d0\"],[0.7,\"#b8e186\"],[0.8,\"#7fbc41\"],[0.9,\"#4d9221\"],[1,\"#276419\"]],\"sequential\":[[0.0,\"#0d0887\"],[0.1111111111111111,\"#46039f\"],[0.2222222222222222,\"#7201a8\"],[0.3333333333333333,\"#9c179e\"],[0.4444444444444444,\"#bd3786\"],[0.5555555555555556,\"#d8576b\"],[0.6666666666666666,\"#ed7953\"],[0.7777777777777778,\"#fb9f3a\"],[0.8888888888888888,\"#fdca26\"],[1.0,\"#f0f921\"]],\"sequentialminus\":[[0.0,\"#0d0887\"],[0.1111111111111111,\"#46039f\"],[0.2222222222222222,\"#7201a8\"],[0.3333333333333333,\"#9c179e\"],[0.4444444444444444,\"#bd3786\"],[0.5555555555555556,\"#d8576b\"],[0.6666666666666666,\"#ed7953\"],[0.7777777777777778,\"#fb9f3a\"],[0.8888888888888888,\"#fdca26\"],[1.0,\"#f0f921\"]]},\"colorway\":[\"#636efa\",\"#EF553B\",\"#00cc96\",\"#ab63fa\",\"#FFA15A\",\"#19d3f3\",\"#FF6692\",\"#B6E880\",\"#FF97FF\",\"#FECB52\"],\"font\":{\"color\":\"#2a3f5f\"},\"geo\":{\"bgcolor\":\"white\",\"lakecolor\":\"white\",\"landcolor\":\"#E5ECF6\",\"showlakes\":true,\"showland\":true,\"subunitcolor\":\"white\"},\"hoverlabel\":{\"align\":\"left\"},\"hovermode\":\"closest\",\"mapbox\":{\"style\":\"light\"},\"paper_bgcolor\":\"white\",\"plot_bgcolor\":\"#E5ECF6\",\"polar\":{\"angularaxis\":{\"gridcolor\":\"white\",\"linecolor\":\"white\",\"ticks\":\"\"},\"bgcolor\":\"#E5ECF6\",\"radialaxis\":{\"gridcolor\":\"white\",\"linecolor\":\"white\",\"ticks\":\"\"}},\"scene\":{\"xaxis\":{\"backgroundcolor\":\"#E5ECF6\",\"gridcolor\":\"white\",\"gridwidth\":2,\"linecolor\":\"white\",\"showbackground\":true,\"ticks\":\"\",\"zerolinecolor\":\"white\"},\"yaxis\":{\"backgroundcolor\":\"#E5ECF6\",\"gridcolor\":\"white\",\"gridwidth\":2,\"linecolor\":\"white\",\"showbackground\":true,\"ticks\":\"\",\"zerolinecolor\":\"white\"},\"zaxis\":{\"backgroundcolor\":\"#E5ECF6\",\"gridcolor\":\"white\",\"gridwidth\":2,\"linecolor\":\"white\",\"showbackground\":true,\"ticks\":\"\",\"zerolinecolor\":\"white\"}},\"shapedefaults\":{\"line\":{\"color\":\"#2a3f5f\"}},\"ternary\":{\"aaxis\":{\"gridcolor\":\"white\",\"linecolor\":\"white\",\"ticks\":\"\"},\"baxis\":{\"gridcolor\":\"white\",\"linecolor\":\"white\",\"ticks\":\"\"},\"bgcolor\":\"#E5ECF6\",\"caxis\":{\"gridcolor\":\"white\",\"linecolor\":\"white\",\"ticks\":\"\"}},\"title\":{\"x\":0.05},\"xaxis\":{\"automargin\":true,\"gridcolor\":\"white\",\"linecolor\":\"white\",\"ticks\":\"\",\"title\":{\"standoff\":15},\"zerolinecolor\":\"white\",\"zerolinewidth\":2},\"yaxis\":{\"automargin\":true,\"gridcolor\":\"white\",\"linecolor\":\"white\",\"ticks\":\"\",\"title\":{\"standoff\":15},\"zerolinecolor\":\"white\",\"zerolinewidth\":2}}},\"title\":{\"font\":{\"color\":\"#4D5663\"}},\"xaxis\":{\"gridcolor\":\"#E1E5ED\",\"showgrid\":true,\"tickfont\":{\"color\":\"#4D5663\"},\"title\":{\"font\":{\"color\":\"#4D5663\"},\"text\":\"\"},\"zerolinecolor\":\"#E1E5ED\"},\"yaxis\":{\"gridcolor\":\"#E1E5ED\",\"showgrid\":true,\"tickfont\":{\"color\":\"#4D5663\"},\"title\":{\"font\":{\"color\":\"#4D5663\"},\"text\":\"\"},\"zerolinecolor\":\"#E1E5ED\"}},                        {\"showLink\": true, \"linkText\": \"Export to plot.ly\", \"plotlyServerURL\": \"https://plot.ly\", \"responsive\": true}                    ).then(function(){\n",
       "                            \n",
       "var gd = document.getElementById('e23d81f7-17fb-48dd-966c-1dfa5665f0f2');\n",
       "var x = new MutationObserver(function (mutations, observer) {{\n",
       "        var display = window.getComputedStyle(gd).display;\n",
       "        if (!display || display === 'none') {{\n",
       "            console.log([gd, 'removed!']);\n",
       "            Plotly.purge(gd);\n",
       "            observer.disconnect();\n",
       "        }}\n",
       "}});\n",
       "\n",
       "// Listen for the removal of the full notebook cells\n",
       "var notebookContainer = gd.closest('#notebook-container');\n",
       "if (notebookContainer) {{\n",
       "    x.observe(notebookContainer, {childList: true});\n",
       "}}\n",
       "\n",
       "// Listen for the clearing of the current output cell\n",
       "var outputEl = gd.closest('.output');\n",
       "if (outputEl) {{\n",
       "    x.observe(outputEl, {childList: true});\n",
       "}}\n",
       "\n",
       "                        })                };                });            </script>        </div>"
      ]
     },
     "metadata": {},
     "output_type": "display_data"
    }
   ],
   "source": [
    "# select the plot category \n",
    "main(cat)\n"
   ]
  },
  {
   "cell_type": "code",
   "execution_count": null,
   "id": "0505c6b8",
   "metadata": {},
   "outputs": [],
   "source": []
  },
  {
   "cell_type": "code",
   "execution_count": null,
   "id": "45e3471f",
   "metadata": {},
   "outputs": [],
   "source": []
  }
 ],
 "metadata": {
  "kernelspec": {
   "display_name": "Python 3 (ipykernel)",
   "language": "python",
   "name": "python3"
  },
  "language_info": {
   "codemirror_mode": {
    "name": "ipython",
    "version": 3
   },
   "file_extension": ".py",
   "mimetype": "text/x-python",
   "name": "python",
   "nbconvert_exporter": "python",
   "pygments_lexer": "ipython3",
   "version": "3.10.8"
  }
 },
 "nbformat": 4,
 "nbformat_minor": 5
}
